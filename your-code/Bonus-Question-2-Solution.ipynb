{
 "cells": [
  {
   "cell_type": "code",
   "execution_count": 1,
   "id": "64332948-fc71-4cc5-9d14-f6bb437adb4d",
   "metadata": {},
   "outputs": [],
   "source": [
    "import pandas as pd\n",
    "import functions\n",
    "import pickle\n",
    "from nltk import classify"
   ]
  },
  {
   "cell_type": "code",
   "execution_count": 23,
   "id": "14696b70-123a-4af9-b64c-f8f271e82d06",
   "metadata": {},
   "outputs": [],
   "source": [
    "def sentiment_analysis(doc):\n",
    "    \n",
    "    doc = functions.clean_up(doc)\n",
    "    doc = functions.tokenize(doc)\n",
    "    doc = functions.stem_and_lemmatize(doc)\n",
    "    doc = functions.remove_stopwords(doc)\n",
    "    \n",
    "    filename = \"corpus.pkl\"\n",
    "    with open(filename, \"rb\") as file:\n",
    "              corpus = pickle.load(file)\n",
    "              \n",
    "              \n",
    "    data_df = pd.DataFrame(columns = corpus)\n",
    "    data_df.loc[len(data_df.index)] = functions.find_features(doc)\n",
    "              \n",
    "    data_dict = (dict(data_df.iloc[0]))\n",
    "              \n",
    "    filename = \"nbc.pkl\"\n",
    "    with open(filename, \"rb\") as file:\n",
    "              nbc = pickle.load(file)\n",
    "\n",
    "    return nbc.classify(data_dict) "
   ]
  },
  {
   "cell_type": "code",
   "execution_count": 3,
   "id": "b910c62b-811c-493d-b4c9-60c116089e26",
   "metadata": {},
   "outputs": [],
   "source": [
    "test = \"ThiS product is SUPER bad, I HATE it, totally worthless, don't buy it!\""
   ]
  },
  {
   "cell_type": "code",
   "execution_count": 24,
   "id": "5c4d6050-17d0-4682-981a-596ce858fe30",
   "metadata": {
    "tags": []
   },
   "outputs": [
    {
     "data": {
      "text/plain": [
       "False"
      ]
     },
     "execution_count": 24,
     "metadata": {},
     "output_type": "execute_result"
    }
   ],
   "source": [
    "sentiment_analysis(test)"
   ]
  },
  {
   "cell_type": "code",
   "execution_count": 25,
   "id": "8a1eede2-61b1-4b05-bb82-90ffdc1c5439",
   "metadata": {},
   "outputs": [],
   "source": [
    "test2 = \"I LOVE this producT!!!! I've recommended it to my whole family, best bucks ever spent!\""
   ]
  },
  {
   "cell_type": "code",
   "execution_count": 26,
   "id": "0b28f8ee-24ab-41d4-8631-9e407839743e",
   "metadata": {},
   "outputs": [
    {
     "data": {
      "text/plain": [
       "True"
      ]
     },
     "execution_count": 26,
     "metadata": {},
     "output_type": "execute_result"
    }
   ],
   "source": [
    "sentiment_analysis(test2)"
   ]
  }
 ],
 "metadata": {
  "kernelspec": {
   "display_name": "Python 3 (ipykernel)",
   "language": "python",
   "name": "python3"
  },
  "language_info": {
   "codemirror_mode": {
    "name": "ipython",
    "version": 3
   },
   "file_extension": ".py",
   "mimetype": "text/x-python",
   "name": "python",
   "nbconvert_exporter": "python",
   "pygments_lexer": "ipython3",
   "version": "3.9.12"
  }
 },
 "nbformat": 4,
 "nbformat_minor": 5
}
